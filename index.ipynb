{
 "cells": [
  {
   "cell_type": "markdown",
   "metadata": {},
   "source": [
    "# IV Jornadas de Periodismo de Dato 2016\n",
    "\n",
    "Marcos Vanetta (Continuum Analytics)\n",
    "\n",
    "* [web](http://codingnews.info)\n",
    "* [code](https://github.com/malev)\n",
    "* [@malev](http://twitter.com/malev)"
   ]
  },
  {
   "cell_type": "markdown",
   "metadata": {},
   "source": [
    "## Números en Python\n",
    "\n",
    "Operaciones básicas:\n",
    "\n",
    "* suma\n",
    "* resta\n",
    "* multiplicación\n",
    "* división\n",
    "* casos especiales de la división"
   ]
  },
  {
   "cell_type": "code",
   "execution_count": null,
   "metadata": {
    "collapsed": false
   },
   "outputs": [],
   "source": [
    "1+1"
   ]
  },
  {
   "cell_type": "code",
   "execution_count": null,
   "metadata": {
    "collapsed": false
   },
   "outputs": [],
   "source": [
    "1+2+3*4-1"
   ]
  },
  {
   "cell_type": "code",
   "execution_count": null,
   "metadata": {
    "collapsed": false
   },
   "outputs": [],
   "source": [
    "2/2"
   ]
  },
  {
   "cell_type": "code",
   "execution_count": null,
   "metadata": {
    "collapsed": false
   },
   "outputs": [],
   "source": [
    "1/2"
   ]
  },
  {
   "cell_type": "code",
   "execution_count": null,
   "metadata": {
    "collapsed": false
   },
   "outputs": [],
   "source": [
    "1.0/2"
   ]
  },
  {
   "cell_type": "markdown",
   "metadata": {},
   "source": [
    "### Tarea:\n",
    "\n",
    "* Cuánto es 3 al cubo?\n",
    "* Cuál es la raiz cuadrada de 2?\n",
    "\n",
    "### Avanzada\n",
    "\n",
    "* Qué es el módulo entre dos números?\n",
    "* Cómo calculo el módulo entre dos números en python?"
   ]
  },
  {
   "cell_type": "markdown",
   "metadata": {},
   "source": [
    "## Variables\n",
    "\n",
    "Asignemos nombres a nuestros resultados."
   ]
  },
  {
   "cell_type": "code",
   "execution_count": null,
   "metadata": {
    "collapsed": false
   },
   "outputs": [],
   "source": [
    "pi = 3.1416\n",
    "r = 3\n",
    "\n",
    "superficio_del_circulo = pi * r**2\n",
    "perimetro_del_circulo = pi*r*2\n",
    "\n",
    "h = 3\n",
    "b = 4\n",
    "superficie_del_rectangulo = h*b"
   ]
  },
  {
   "cell_type": "markdown",
   "metadata": {},
   "source": [
    "### Preguntas\n",
    "\n",
    "* Para qué sirven las variables?\n",
    "* Cuáles son las limitaciones al nombre de una variable?\n",
    "* Qué criterios deberías tomar al nombrar una variable\n",
    "\n",
    "### Tarea\n",
    "\n",
    "* `a = 1`, `b = 2` Cómo intercambio los valores de a y b?\n",
    "* Si `a = 1`, cómo hago para sumarle 2 a `a`\n",
    "\n"
   ]
  },
  {
   "cell_type": "code",
   "execution_count": null,
   "metadata": {
    "collapsed": false
   },
   "outputs": [],
   "source": [
    "from __future__ import print_function\n",
    "## Cadenas\n",
    "\n",
    "persona = \"Marcos\"\n",
    "procedencia = \"Argentina\"\n",
    "\n",
    "print(persona, \"es de\", procedencia)"
   ]
  },
  {
   "cell_type": "markdown",
   "metadata": {},
   "source": [
    "## Operaciones con cadenas\n",
    "\n",
    "* Concatenación\n",
    "* Multiplicación\n",
    "* ~~División~~ Partición\n",
    "* Limpiar una cadena\n",
    "* Contar los caracteres en una cadena\n",
    "* La cadena contiene sólo números?\n",
    "* La cadena contiene sólo letras?\n",
    "* Convertir mi cadena a mayúsculas, minúsculas\n",
    "* Encontrar palabras o caracteres dentro de una cadena"
   ]
  },
  {
   "cell_type": "code",
   "execution_count": null,
   "metadata": {
    "collapsed": false
   },
   "outputs": [],
   "source": [
    "saludo = \"Bienvenidos\" + \" a \" + \"Python\"\n",
    "saludo"
   ]
  },
  {
   "cell_type": "code",
   "execution_count": null,
   "metadata": {
    "collapsed": false
   },
   "outputs": [],
   "source": [
    "\"ole\"*2 + \"e\"*4 + \"ola\"*2 + \"a\"*3"
   ]
  },
  {
   "cell_type": "code",
   "execution_count": null,
   "metadata": {
    "collapsed": false
   },
   "outputs": [],
   "source": [
    "\"James Rodriguez\".split()"
   ]
  },
  {
   "cell_type": "code",
   "execution_count": null,
   "metadata": {
    "collapsed": false
   },
   "outputs": [],
   "source": [
    "nombre, apellido = \"James Rodriguez\".split()"
   ]
  },
  {
   "cell_type": "code",
   "execution_count": null,
   "metadata": {
    "collapsed": false
   },
   "outputs": [],
   "source": [
    "cadena_sucia = \"     James Rodriguez    \"\n",
    "cadena_sucia.strip()"
   ]
  },
  {
   "cell_type": "code",
   "execution_count": null,
   "metadata": {
    "collapsed": false
   },
   "outputs": [],
   "source": [
    "\"1986\".isdigit()"
   ]
  },
  {
   "cell_type": "code",
   "execution_count": null,
   "metadata": {
    "collapsed": false
   },
   "outputs": [],
   "source": [
    "\"Cholo\".isalpha(), \"Cholo Simeone\".isalpha()"
   ]
  },
  {
   "cell_type": "code",
   "execution_count": null,
   "metadata": {
    "collapsed": false
   },
   "outputs": [],
   "source": [
    "\"ska-p\".upper(), \"EMANUEL IGLESIAS\".lower()"
   ]
  },
  {
   "cell_type": "code",
   "execution_count": null,
   "metadata": {
    "collapsed": false
   },
   "outputs": [],
   "source": [
    "\"cóndor\" in \"El cóndor vuela el cielo del Perú\""
   ]
  },
  {
   "cell_type": "code",
   "execution_count": null,
   "metadata": {
    "collapsed": false
   },
   "outputs": [],
   "source": [
    "\"condor\" in \"El cóndor vuela el cielo del Perú\""
   ]
  },
  {
   "cell_type": "code",
   "execution_count": null,
   "metadata": {
    "collapsed": false
   },
   "outputs": [],
   "source": [
    "\"CIELO\" in \"El cóndor vuela el cielo del Perú\""
   ]
  },
  {
   "cell_type": "markdown",
   "metadata": {},
   "source": [
    "### Tarea\n",
    "\n",
    "* Cómo saber si una cadena es alfanumérica?\n",
    "* Si en vez de pasar una cadena a mayúsculas, sólo quiero\n",
    "  pasar la primera letra de cada palabra, como un título.\n",
    "  Qué hago?\n",
    "* Tengo un dato geo de la siguiente forma `29.4290342,28.4028394`. Se sabe que la primer parte es la latitud y la longitid. Cómo las puedo obtener de manera independiente?"
   ]
  },
  {
   "cell_type": "markdown",
   "metadata": {},
   "source": [
    "## Listas\n",
    "\n",
    "* Qué son?\n",
    "* Para qué sirven?\n",
    "* Cómo creo una lista\n",
    "* Cómo le agrego un elemento a una lista?\n",
    "* Cómo eliminto el último elemento de una lista?\n",
    "\n",
    "\n",
    "### Tarea\n",
    "\n",
    "* Puedo ordernar una lista?\n",
    "* Cómo elimino un elemento en particular de una lista?\n",
    "* Cuántos elementos tiene una lista?\n",
    "* Cómo se si un elemento esta en una lista?"
   ]
  },
  {
   "cell_type": "code",
   "execution_count": null,
   "metadata": {
    "collapsed": true
   },
   "outputs": [],
   "source": [
    "lista = []\n",
    "jugadores = ['messi', 'tevez', 'agüero', 'iñesta', 'rodriguez']\n",
    "numeros_interesantes = [3.14, 1,4142, 2.71828]"
   ]
  },
  {
   "cell_type": "code",
   "execution_count": null,
   "metadata": {
    "collapsed": false
   },
   "outputs": [],
   "source": [
    "jugadores[0], jugadores[2], jugadores[-1]"
   ]
  },
  {
   "cell_type": "code",
   "execution_count": null,
   "metadata": {
    "collapsed": true
   },
   "outputs": [],
   "source": [
    "jugadores.append('torres')"
   ]
  },
  {
   "cell_type": "code",
   "execution_count": null,
   "metadata": {
    "collapsed": false
   },
   "outputs": [],
   "source": [
    "jugadores.pop()"
   ]
  },
  {
   "cell_type": "code",
   "execution_count": null,
   "metadata": {
    "collapsed": false
   },
   "outputs": [],
   "source": [
    "del jugadores[1]"
   ]
  },
  {
   "cell_type": "markdown",
   "metadata": {},
   "source": [
    "## Diccionarios\n",
    "\n",
    "* Diferencias con listas\n",
    "* Cómo crear un diccionario\n",
    "* Cómo recuperar valores de un diccionario\n",
    "* Cómo eliminar elementos de un diccionario"
   ]
  },
  {
   "cell_type": "code",
   "execution_count": null,
   "metadata": {
    "collapsed": true
   },
   "outputs": [],
   "source": [
    "a = dict()\n",
    "b = {}\n",
    "c = {\n",
    "    'Domingo': 'dom',\n",
    "    'Lunes': 'lun',\n",
    "    'Martes': 'mar',\n",
    "    \"Miércoles\": 'mier',\n",
    "    'Jueves': 'juev',\n",
    "    'Viernes': 'vier',\n",
    "    'Sábado': 'sab'\n",
    "}"
   ]
  },
  {
   "cell_type": "code",
   "execution_count": null,
   "metadata": {
    "collapsed": false
   },
   "outputs": [],
   "source": [
    "c['Miércoles']"
   ]
  },
  {
   "cell_type": "code",
   "execution_count": null,
   "metadata": {
    "collapsed": false
   },
   "outputs": [],
   "source": [
    "del c['Lunes']"
   ]
  },
  {
   "cell_type": "markdown",
   "metadata": {},
   "source": [
    "## Iteraciones\n",
    "\n",
    "* `for` and ~~`while`~~"
   ]
  },
  {
   "cell_type": "code",
   "execution_count": null,
   "metadata": {
    "collapsed": false
   },
   "outputs": [],
   "source": [
    "for jugador in jugadores:\n",
    "    print(jugador)"
   ]
  },
  {
   "cell_type": "code",
   "execution_count": null,
   "metadata": {
    "collapsed": false
   },
   "outputs": [],
   "source": [
    "for jugador in jugadores:\n",
    "    print(jugador, \"es un jugador de futbol\")"
   ]
  },
  {
   "cell_type": "code",
   "execution_count": null,
   "metadata": {
    "collapsed": false
   },
   "outputs": [],
   "source": [
    "for key, value in list(c.items()):\n",
    "    print(key)"
   ]
  },
  {
   "cell_type": "markdown",
   "metadata": {},
   "source": [
    "## Condiciones\n",
    "\n",
    "* if, else, elif"
   ]
  },
  {
   "cell_type": "code",
   "execution_count": null,
   "metadata": {
    "collapsed": false
   },
   "outputs": [],
   "source": [
    "a = 10\n",
    "b = 9\n",
    "c = 8\n",
    "\n",
    "if a > b:\n",
    "    print(\"A es mayor que B\")\n",
    "else:\n",
    "    print(\"B es mayor que A\")"
   ]
  },
  {
   "cell_type": "markdown",
   "metadata": {},
   "source": [
    "## Ejercicio\n",
    "\n",
    "Hacienda tiene una lista de personas que reportan sus ingresos anuales y quiere un algoritmo que la ayude a detectar fraude. Para eso decide auditar a las personas que se anualmente reportan un ingreso muy bajo o muy alto. Cómo lo implementaría?"
   ]
  },
  {
   "cell_type": "code",
   "execution_count": null,
   "metadata": {
    "collapsed": false
   },
   "outputs": [],
   "source": [
    "import csv\n",
    "ingresos = []\n",
    "with open('ingresos.csv', 'rb') as ifile:\n",
    "    creader = csv.reader(ifile)\n",
    "    for row in creader:\n",
    "        ingresos.append(row)\n",
    "ingresos"
   ]
  },
  {
   "cell_type": "markdown",
   "metadata": {},
   "source": [
    "## Funciones\n",
    "\n",
    "Pedacitos de código que toman valores y devuelven un resultado. Después devuelven al punto de ejecución anterior."
   ]
  },
  {
   "cell_type": "code",
   "execution_count": null,
   "metadata": {
    "collapsed": true
   },
   "outputs": [],
   "source": [
    "def parse_nombre(nombre_completo):\n",
    "    '''\n",
    "    Devuelve: primer nombre, 2do nombre y apellido\n",
    "    Si alguno esta ausente lo reemplaza por None\n",
    "    '''\n",
    "    arreglo_nombre = nombre_completo.split()\n",
    "    if len(arreglo_nombre) == 1:\n",
    "        return arreglo_nombre[0], None, None\n",
    "    elif len(arreglo_nombre) == 2:\n",
    "        return arreglo_nombre[0], None, arreglo_nombre[1]\n",
    "    return arreglo_nombre[0], arreglo_nombre[1], arreglo_nombre[2]        "
   ]
  },
  {
   "cell_type": "code",
   "execution_count": null,
   "metadata": {
    "collapsed": false
   },
   "outputs": [],
   "source": [
    "parse_nombre(\"Fernando Jose Torres\")"
   ]
  },
  {
   "cell_type": "code",
   "execution_count": null,
   "metadata": {
    "collapsed": false
   },
   "outputs": [],
   "source": [
    "parse_nombre(\"James Rodriguez\")"
   ]
  },
  {
   "cell_type": "code",
   "execution_count": null,
   "metadata": {
    "collapsed": false
   },
   "outputs": [],
   "source": [
    "parse_nombre(\"Chicharito\")"
   ]
  },
  {
   "cell_type": "markdown",
   "metadata": {},
   "source": [
    "### Pregunta\n",
    "\n",
    "Pueden pensar en un ejemplo en el que `parse_nombre` no funcione? De ser así, se puede arreglar?\n",
    "\n",
    "### Ejercicio\n",
    "\n",
    "`escritoras` es una lista con escritoras en órden alfabético. Puede implementar una función `parse_escritora` para detectar los nombres y el apellido."
   ]
  },
  {
   "cell_type": "code",
   "execution_count": null,
   "metadata": {
    "collapsed": true
   },
   "outputs": [],
   "source": [
    "escritoras = [\n",
    "    \"Abad, Mercedes\",\n",
    "    \"Abarca de Bolea, Ana Francisca\",\n",
    "    \"Acevedo, Ángela de\",\n",
    "    \"Acuña, Rosario de\",\n",
    "    \"Adón, Pilar\",\n",
    "    \"Alameda, Irene Zoe\",\n",
    "    \"Albert, Caterina\",\n",
    "    \"Aldecoa, Josefina\",\n",
    "    \"Aldrich, Trinitat\",\n",
    "    \"Alegría, Claribel\",\n",
    "    \"Aleixandre, Marilar\",\n",
    "    \"Allende, Isabel\",\n",
    "    \"Alós, Concha\",\n",
    "    \"Amat, Nuria\",\n",
    "    \"Amenedo, Cristina\",\n",
    "    \"Amoraga, Carmen\"\n",
    "]"
   ]
  },
  {
   "cell_type": "markdown",
   "metadata": {},
   "source": [
    "### Ejemplo de una función para contar palabras en un texto"
   ]
  },
  {
   "cell_type": "code",
   "execution_count": null,
   "metadata": {
    "collapsed": false
   },
   "outputs": [],
   "source": [
    "texto = '''\n",
    "El BCE acaba con los billetes de 500 euros\n",
    "Los billetes con ese valor dejarán de imprimirse en 2018, pero los existentes mantendrán su valor de forma indefinida\n",
    "El Consejo de Gobierno Banco Central Europeo (BCE) ha decidido hoy dejar de producir \"definitivamente\" los billetes de 500 euros. El organismo que dirige Mario Draghi da este paso al reconocer que el elevado valor de estos billetes favorecía la comisión de actividades ilícitas, según ha informado en un comunicado. La decisión implica que se dejarán de imprimir estos billetes, pero los existentes mantendrán su valor de forma indefinida. La desaparición será así paulatina y en ningún caso dichos billetes dejarán de tener valor, sino que los países dejarían de producirlos.\n",
    "El fin de la impresión de los billetes morados llegará a finales de 2018, pero sus poseedores podrán seguir cambiándolos en los bancos centrales de la eurozona por sin límites.\n",
    "La nota aclara que os billetes de 500 euros \"seguirán siendo de curso legal y, por tanto, pueden seguir utilizándose como medio de pago\". Los billetes ya en circulación seguirán conservando su valor y \"pueden ser intercambiados en los bancos centrales\" de la Eurozona \"durante un periodo de tiempo ilimitado\". El resto de denominaciones de billetes, de 5 a 200 euros, se seguirán emitiendo con normalidad.\n",
    "Para acabar con los billetes morados era necesaria una mayoría en el Consejo de Gobierno del BCE, que reúne a los seis miembros del Consejo Ejecutivo y a los 19 gobernadores de los bancos centrales de los países del euro. El Bundesbank o banco central de Alemania había mostrado su oposición a esta decisión.\n",
    "En febrero de este año, pese a que el BCE lleva años rechazándolo, el presidente del Eurobanco, Mario Draghi, reconoció que se buscaban fórmulas técnicas para poner en marcha esta iniciativa que trata de luchar contra prácticas delictivas como el blanqueo de dinero o la financiación del terrorismo. “Hay dudas sobre cómo adoptar la decisión y cómo comunicarla. Queremos hacer cambios, pero de forma ordenada. Pero puedo asegurar que estamos decididos a que la producción del dinero no proporcione ninguna comodidad a los criminales”, dijo entonces Draghi.\n",
    "Entre los argumentos a favor de acabar con ellos, está su poco uso habitual (un 56% de los ciudadanos europeos nunca ha visto un billete de 500 euros, según un estudio del Banco Central Europeo (BCE)), que los empresarios no lo consideran interesante para las transacciones económicas y que se imponen cada vez más los medios de pago electrónico entre los consumidores. Pero el debate ha surgido sobre todo por su uso en actividades ilícitas.\n",
    "'''"
   ]
  },
  {
   "cell_type": "code",
   "execution_count": null,
   "metadata": {
    "collapsed": false
   },
   "outputs": [],
   "source": [
    "def rank_palabras(text):\n",
    "    resultado = {}\n",
    "    for palabra in text.split():\n",
    "        if palabra in resultado:\n",
    "            resultado[palabra] += 1\n",
    "        else:\n",
    "            resultado[palabra] = 1\n",
    "    resultado_ordenado = sorted(\n",
    "        resultado, key=resultado.get, reverse=True)\n",
    "    return resultado_ordenado[0:20]\n",
    "\n",
    "d = rank_palabras(texto)\n",
    "d"
   ]
  },
  {
   "cell_type": "code",
   "execution_count": null,
   "metadata": {
    "collapsed": false
   },
   "outputs": [],
   "source": [
    "# Mejora 1: Limpieza de código y customizaciones\n",
    "def rank_palabras(text, top=20):\n",
    "    resultado = {}\n",
    "    for palabra in text.split():\n",
    "        if palabra in resultado:\n",
    "            resultado[palabra] += 1\n",
    "        else:\n",
    "            resultado[palabra] = 1\n",
    "    return sorted(\n",
    "        resultado, key=resultado.get, reverse=True)[0:top]"
   ]
  },
  {
   "cell_type": "code",
   "execution_count": null,
   "metadata": {
    "collapsed": false
   },
   "outputs": [],
   "source": [
    "# Mejora 2: Usando `defaultdict`\n",
    "from collections import defaultdict\n",
    "\n",
    "def rank_palabras(text, top=20):\n",
    "    resultado = defaultdict(lambda: 0)\n",
    "    for palabra in text.split():\n",
    "        resultado[palabra] += 1\n",
    "    return sorted(\n",
    "        resultado, key=resultado.get, reverse=True)[0:top]\n",
    "\n",
    "rank_palabras(texto)"
   ]
  },
  {
   "cell_type": "markdown",
   "metadata": {
    "collapsed": true
   },
   "source": [
    "### Preguntas\n",
    "\n",
    "* Cómo se puede mejorar aún más el algoritmo?\n",
    "* Cómo eliminamos los artículos y pronombres, etc?\n",
    "* Hay algún problema con los signos de puntuación?"
   ]
  },
  {
   "cell_type": "markdown",
   "metadata": {},
   "source": [
    "## La realidad del análisis de datos en Python\n",
    "\n",
    "Las listas de python no son la mejor opción a la hora de trabajar con datos.\n",
    "\n",
    "Alternativas:\n",
    "\n",
    "* Numpy\n",
    "* Pandas\n",
    "* matplotlib\n",
    "* scikit-learn\n",
    "* nltk"
   ]
  },
  {
   "cell_type": "markdown",
   "metadata": {},
   "source": [
    "### Ejemplo 1\n",
    "\n",
    "[AVISA: avisos ciudadanos](http://datos.madrid.es/portal/site/egob/menuitem.c05c1f754a33a9fbe4b2e4b284f1a5a0/?vgnextoid=fd6112695c6bb410VgnVCM1000000b205a0aRCRD&vgnextchannel=374512b9ace9f310VgnVCM100000171f5a0aRCRD&vgnextfmt=default)"
   ]
  },
  {
   "cell_type": "code",
   "execution_count": null,
   "metadata": {
    "collapsed": false
   },
   "outputs": [],
   "source": [
    "%matplotlib inline\n",
    "import numpy as np\n",
    "import pandas as pd\n",
    "import matplotlib\n",
    "from datetime import datetime"
   ]
  },
  {
   "cell_type": "code",
   "execution_count": null,
   "metadata": {
    "collapsed": false
   },
   "outputs": [],
   "source": [
    "df = pd.read_csv(\"avisos-ciudadanos-mensuales-recibidos-en-el-ayuntamiento-201603.csv\", sep=\";\", encoding=\"latin-1\")"
   ]
  },
  {
   "cell_type": "code",
   "execution_count": null,
   "metadata": {
    "collapsed": false
   },
   "outputs": [],
   "source": [
    "df.groupby(\"TIPO_INCIDENCIA\").TIPO_INCIDENCIA.count().plot(kind=\"bar\")"
   ]
  },
  {
   "cell_type": "code",
   "execution_count": null,
   "metadata": {
    "collapsed": false
   },
   "outputs": [],
   "source": [
    "df.groupby(\"CANAL_DE_ENTRADA\").CANAL_DE_ENTRADA.count().plot(kind=\"bar\")"
   ]
  },
  {
   "cell_type": "code",
   "execution_count": null,
   "metadata": {
    "collapsed": false
   },
   "outputs": [],
   "source": [
    "df.groupby(\"SECCION\").SECCION.count().plot(kind=\"bar\")"
   ]
  },
  {
   "cell_type": "code",
   "execution_count": null,
   "metadata": {
    "collapsed": false
   },
   "outputs": [],
   "source": [
    "df.groupby('DISTRITO').DISTRITO.count().plot(kind='bar')"
   ]
  },
  {
   "cell_type": "code",
   "execution_count": null,
   "metadata": {
    "collapsed": false
   },
   "outputs": [],
   "source": [
    "df[df['DISTRITO'] == 'CENTRO'].groupby('SECCION').SECCION.count().plot(kind='bar')"
   ]
  },
  {
   "cell_type": "code",
   "execution_count": null,
   "metadata": {
    "collapsed": false
   },
   "outputs": [],
   "source": [
    "df['FECHA_DE_RECEPCION'] = pd.to_datetime(df['FECHA_DE_RECEPCION'])"
   ]
  },
  {
   "cell_type": "code",
   "execution_count": null,
   "metadata": {
    "collapsed": false
   },
   "outputs": [],
   "source": [
    "# df['HORA_DE_RECEPCION'] = pd.to_datetime(df['HORA_DE_RECEPCION'])"
   ]
  },
  {
   "cell_type": "code",
   "execution_count": null,
   "metadata": {
    "collapsed": false
   },
   "outputs": [],
   "source": [
    "df['weekday'] = df['FECHA_DE_RECEPCION'].dt.dayofweek"
   ]
  },
  {
   "cell_type": "code",
   "execution_count": null,
   "metadata": {
    "collapsed": false
   },
   "outputs": [],
   "source": [
    "df.groupby('weekday').weekday.count().plot(kind='bar')"
   ]
  },
  {
   "cell_type": "markdown",
   "metadata": {},
   "source": [
    "### Ejemplo 2\n",
    "\n",
    "[Declaración de bienes y actividades de los concejales del Ayuntamiento de Madrid](http://datos.madrid.es/portal/site/egob/menuitem.c05c1f754a33a9fbe4b2e4b284f1a5a0/?vgnextoid=9e67be24d6d51510VgnVCM1000000b205a0aRCRD&vgnextchannel=374512b9ace9f310VgnVCM100000171f5a0aRCRD&vgnextfmt=default)"
   ]
  },
  {
   "cell_type": "code",
   "execution_count": null,
   "metadata": {
    "collapsed": false
   },
   "outputs": [],
   "source": [
    "df_personas = pd.read_excel(\"bienes_todos_2_12_2015.xls\", sheetname=0)\n",
    "df_personas.head()"
   ]
  },
  {
   "cell_type": "code",
   "execution_count": null,
   "metadata": {
    "collapsed": false
   },
   "outputs": [],
   "source": [
    "df_declaraciones = pd.read_excel(\"bienes_todos_2_12_2015.xls\", sheetname=2)\n",
    "df_declaraciones.head()"
   ]
  },
  {
   "cell_type": "code",
   "execution_count": null,
   "metadata": {
    "collapsed": false
   },
   "outputs": [],
   "source": [
    "result = pd.merge(df_personas, df_declaraciones, on='CodigoPersona')[[df_personas.columns[2], 'Nombre', 'Apellido 1', 'Apellido 2', 'Clase', 'Saldo medio anual o valor (euros)']]\n",
    "result.head()"
   ]
  },
  {
   "cell_type": "code",
   "execution_count": null,
   "metadata": {
    "collapsed": false
   },
   "outputs": [],
   "source": [
    "result.groupby(\"Nombre\")['Saldo medio anual o valor (euros)'].sum().plot(kind='bar')"
   ]
  },
  {
   "cell_type": "code",
   "execution_count": null,
   "metadata": {
    "collapsed": false
   },
   "outputs": [],
   "source": [
    "result.groupby(df_personas.columns[2])['Saldo medio anual o valor (euros)'].sum().plot(kind='bar')"
   ]
  }
 ],
 "metadata": {
  "kernelspec": {
   "display_name": "Python 2",
   "language": "python",
   "name": "python2"
  },
  "language_info": {
   "codemirror_mode": {
    "name": "ipython",
    "version": 2
   },
   "file_extension": ".py",
   "mimetype": "text/x-python",
   "name": "python",
   "nbconvert_exporter": "python",
   "pygments_lexer": "ipython2",
   "version": "2.7.11"
  }
 },
 "nbformat": 4,
 "nbformat_minor": 0
}
